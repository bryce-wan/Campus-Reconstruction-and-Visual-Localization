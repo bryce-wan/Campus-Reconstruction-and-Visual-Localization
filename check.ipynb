{
 "cells": [
  {
   "cell_type": "code",
   "execution_count": null,
   "metadata": {},
   "outputs": [],
   "source": [
    "import h5py\n",
    "with h5py.File('./outputs/theater/matches.h5', 'r') as f:\n",
    "    for key in f.keys():\n",
    "        print(f[key].name)\n",
    "    # my_group_1 = f[\"/db\"]\n",
    "    # data_1 = my_group_1.items()\n",
    "    # for i in data_1:\n",
    "    #     print(i)\n",
    "    # f.close()"
   ]
  }
 ],
 "metadata": {
  "kernelspec": {
   "display_name": "hloc",
   "language": "python",
   "name": "python3"
  },
  "language_info": {
   "codemirror_mode": {
    "name": "ipython",
    "version": 3
   },
   "file_extension": ".py",
   "mimetype": "text/x-python",
   "name": "python",
   "nbconvert_exporter": "python",
   "pygments_lexer": "ipython3",
   "version": "3.8.18"
  }
 },
 "nbformat": 4,
 "nbformat_minor": 2
}
