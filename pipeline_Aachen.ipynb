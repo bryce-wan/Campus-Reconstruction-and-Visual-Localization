{
 "cells": [
  {
   "cell_type": "code",
   "execution_count": 2,
   "metadata": {},
   "outputs": [],
   "source": [
    "%load_ext autoreload\n",
    "%autoreload 2\n",
    "\n",
    "from pathlib import Path\n",
    "from pprint import pformat\n",
    "\n",
    "from hloc import extract_features, match_features, pairs_from_covisibility, pairs_from_retrieval\n",
    "from hloc import colmap_from_nvm, triangulation, localize_sfm, visualization"
   ]
  },
  {
   "cell_type": "markdown",
   "metadata": {},
   "source": [
    "# Pipeline for outdoor day-night visual localization"
   ]
  },
  {
   "cell_type": "markdown",
   "metadata": {},
   "source": [
    "## Setup\n",
    "Here we declare the paths to the dataset, the reconstruction and localization outputs, and we choose the feature extractor and the matcher. You only need to download the [Aachen Day-Night dataset](https://www.visuallocalization.net/datasets/) and put it in `datasets/aachen/`, or change the path."
   ]
  },
  {
   "cell_type": "code",
   "execution_count": 5,
   "metadata": {},
   "outputs": [
    {
     "name": "stdout",
     "output_type": "stream",
     "text": [
      "Configs for feature extractors:\n",
      "{'cosplace': {'model': {'name': 'cosplace'},\n",
      "              'output': 'global-feats-cosplace',\n",
      "              'preprocessing': {'resize_max': 1024}},\n",
      " 'd2net-ss': {'model': {'multiscale': False, 'name': 'd2net'},\n",
      "              'output': 'feats-d2net-ss',\n",
      "              'preprocessing': {'grayscale': False, 'resize_max': 1600}},\n",
      " 'dir': {'model': {'name': 'dir'},\n",
      "         'output': 'global-feats-dir',\n",
      "         'preprocessing': {'resize_max': 1024}},\n",
      " 'disk': {'model': {'max_keypoints': 5000, 'name': 'disk'},\n",
      "          'output': 'feats-disk',\n",
      "          'preprocessing': {'grayscale': False, 'resize_max': 1600}},\n",
      " 'netvlad': {'model': {'name': 'netvlad'},\n",
      "             'output': 'global-feats-netvlad',\n",
      "             'preprocessing': {'resize_max': 1024}},\n",
      " 'openibl': {'model': {'name': 'openibl'},\n",
      "             'output': 'global-feats-openibl',\n",
      "             'preprocessing': {'resize_max': 1024}},\n",
      " 'r2d2': {'model': {'max_keypoints': 5000, 'name': 'r2d2'},\n",
      "          'output': 'feats-r2d2-n5000-r1024',\n",
      "          'preprocessing': {'grayscale': False, 'resize_max': 1024}},\n",
      " 'sift': {'model': {'name': 'dog'},\n",
      "          'output': 'feats-sift',\n",
      "          'preprocessing': {'grayscale': True, 'resize_max': 1600}},\n",
      " 'sosnet': {'model': {'descriptor': 'sosnet', 'name': 'dog'},\n",
      "            'output': 'feats-sosnet',\n",
      "            'preprocessing': {'grayscale': True, 'resize_max': 1600}},\n",
      " 'superpoint_aachen': {'model': {'max_keypoints': 4096,\n",
      "                                 'name': 'superpoint',\n",
      "                                 'nms_radius': 3},\n",
      "                       'output': 'feats-superpoint-n4096-r1024',\n",
      "                       'preprocessing': {'grayscale': True,\n",
      "                                         'resize_max': 1024}},\n",
      " 'superpoint_inloc': {'model': {'max_keypoints': 4096,\n",
      "                                'name': 'superpoint',\n",
      "                                'nms_radius': 4},\n",
      "                      'output': 'feats-superpoint-n4096-r1600',\n",
      "                      'preprocessing': {'grayscale': True, 'resize_max': 1600}},\n",
      " 'superpoint_max': {'model': {'max_keypoints': 4096,\n",
      "                              'name': 'superpoint',\n",
      "                              'nms_radius': 3},\n",
      "                    'output': 'feats-superpoint-n4096-rmax1600',\n",
      "                    'preprocessing': {'grayscale': True,\n",
      "                                      'resize_force': True,\n",
      "                                      'resize_max': 1600}}}\n",
      "Configs for feature matchers:\n",
      "{'NN-mutual': {'model': {'do_mutual_check': True, 'name': 'nearest_neighbor'},\n",
      "               'output': 'matches-NN-mutual'},\n",
      " 'NN-ratio': {'model': {'do_mutual_check': True,\n",
      "                        'name': 'nearest_neighbor',\n",
      "                        'ratio_threshold': 0.8},\n",
      "              'output': 'matches-NN-mutual-ratio.8'},\n",
      " 'NN-superpoint': {'model': {'distance_threshold': 0.7,\n",
      "                             'do_mutual_check': True,\n",
      "                             'name': 'nearest_neighbor'},\n",
      "                   'output': 'matches-NN-mutual-dist.7'},\n",
      " 'adalam': {'model': {'name': 'adalam'}, 'output': 'matches-adalam'},\n",
      " 'disk+lightglue': {'model': {'features': 'disk', 'name': 'lightglue'},\n",
      "                    'output': 'matches-disk-lightglue'},\n",
      " 'superglue': {'model': {'name': 'superglue',\n",
      "                         'sinkhorn_iterations': 50,\n",
      "                         'weights': 'outdoor'},\n",
      "               'output': 'matches-superglue'},\n",
      " 'superglue-fast': {'model': {'name': 'superglue',\n",
      "                              'sinkhorn_iterations': 5,\n",
      "                              'weights': 'outdoor'},\n",
      "                    'output': 'matches-superglue-it5'},\n",
      " 'superpoint+lightglue': {'model': {'features': 'superpoint',\n",
      "                                    'name': 'lightglue'},\n",
      "                          'output': 'matches-superpoint-lightglue'}}\n"
     ]
    }
   ],
   "source": [
    "dataset = Path('datasets/aachen/')  # change this if your dataset is somewhere else\n",
    "images = dataset / 'images_upright/'\n",
    "\n",
    "outputs = Path('outputs/aachen/')  # where everything will be saved\n",
    "sfm_pairs = outputs / 'pairs-db-covis20.txt'  # top 20 most covisible in SIFT model\n",
    "loc_pairs = outputs / 'pairs-query-netvlad20.txt'  # top 20 retrieved by NetVLAD\n",
    "reference_sfm = outputs / 'sfm_superpoint+superglue'  # the SfM model we will build\n",
    "results = outputs / 'Aachen_hloc_superpoint+superglue_netvlad20.txt'  # the result file\n",
    "\n",
    "# list the standard configurations available\n",
    "print(f'Configs for feature extractors:\\n{pformat(extract_features.confs)}')\n",
    "print(f'Configs for feature matchers:\\n{pformat(match_features.confs)}')"
   ]
  },
  {
   "cell_type": "code",
   "execution_count": 6,
   "metadata": {},
   "outputs": [],
   "source": [
    "# pick one of the configurations for image retrieval, local feature extraction, and matching\n",
    "# you can also simply write your own here!\n",
    "retrieval_conf = extract_features.confs['netvlad']\n",
    "feature_conf = extract_features.confs['superpoint_aachen']\n",
    "matcher_conf = match_features.confs['superglue']"
   ]
  },
  {
   "cell_type": "markdown",
   "metadata": {},
   "source": [
    "## Extract local features for database and query images"
   ]
  },
  {
   "cell_type": "code",
   "execution_count": 5,
   "metadata": {},
   "outputs": [
    {
     "name": "stderr",
     "output_type": "stream",
     "text": [
      "[2023/12/19 10:13:56 hloc INFO] Extracting local features with configuration:\n",
      "{'model': {'max_keypoints': 4096, 'name': 'superpoint', 'nms_radius': 3},\n",
      " 'output': 'feats-superpoint-n4096-r1024',\n",
      " 'preprocessing': {'grayscale': True, 'resize_max': 1024}}\n"
     ]
    },
    {
     "name": "stderr",
     "output_type": "stream",
     "text": [
      "[2023/12/19 10:13:56 hloc INFO] Found 5426 images in root datasets/aachen/images_upright.\n"
     ]
    },
    {
     "name": "stdout",
     "output_type": "stream",
     "text": [
      "Loaded SuperPoint model\n"
     ]
    },
    {
     "name": "stderr",
     "output_type": "stream",
     "text": [
      "/home/shio/anaconda3/envs/hloc/lib/python3.8/site-packages/torch/cuda/__init__.py:138: UserWarning: CUDA initialization: The NVIDIA driver on your system is too old (found version 11060). Please update your GPU driver by downloading and installing a new version from the URL: http://www.nvidia.com/Download/index.aspx Alternatively, go to: https://pytorch.org to install a PyTorch version that has been compiled with your version of the CUDA driver. (Triggered internally at ../c10/cuda/CUDAFunctions.cpp:108.)\n",
      "  return torch._C._cuda_getDeviceCount() > 0\n",
      "100%|██████████| 5426/5426 [1:15:10<00:00,  1.20it/s]\n",
      "[2023/12/19 11:29:07 hloc INFO] Finished exporting features.\n"
     ]
    }
   ],
   "source": [
    "features = extract_features.main(feature_conf, images, outputs)"
   ]
  },
  {
   "cell_type": "markdown",
   "metadata": {},
   "source": [
    "The function returns the path of the file in which all the extracted features are stored."
   ]
  },
  {
   "cell_type": "markdown",
   "metadata": {},
   "source": [
    "## Generate pairs for the SfM reconstruction\n",
    "Instead of matching all database images exhaustively, we exploit the existing SIFT model to find which image pairs are the most covisible. We first convert the SIFT model from the NVM to the COLMAP format, and then do a covisiblity search, selecting the top 20 most covisibile neighbors for each image."
   ]
  },
  {
   "cell_type": "code",
   "execution_count": 7,
   "metadata": {},
   "outputs": [
    {
     "name": "stdout",
     "output_type": "stream",
     "text": [
      "--2023-12-19 11:40:57--  https://data.ciirc.cvut.cz/public/projects/2020VisualLocalization/Aachen-Day-Night/3D-models/database_intrinsics.txt\n",
      "Resolving data.ciirc.cvut.cz (data.ciirc.cvut.cz)... 147.32.71.18\n",
      "Connecting to data.ciirc.cvut.cz (data.ciirc.cvut.cz)|147.32.71.18|:443... connected.\n",
      "HTTP request sent, awaiting response... 200 OK\n",
      "Length: 274143 (268K) [text/plain]\n",
      "Saving to: ‘datasets/aachen/3D-models/database_intrinsics.txt’\n",
      "\n",
      "database_intrinsics 100%[===================>] 267.72K  56.9KB/s    in 4.7s    \n",
      "\n",
      "2023-12-19 11:41:03 (56.9 KB/s) - ‘datasets/aachen/3D-models/database_intrinsics.txt’ saved [274143/274143]\n",
      "\n"
     ]
    }
   ],
   "source": [
    "# !wget https://data.ciirc.cvut.cz/public/projects/2020VisualLocalization/Aachen-Day-Night/3D-models/database_intrinsics.txt -P datasets/aachen/3D-models/"
   ]
  },
  {
   "cell_type": "code",
   "execution_count": 7,
   "metadata": {},
   "outputs": [
    {
     "ename": "DatabaseError",
     "evalue": "database disk image is malformed",
     "output_type": "error",
     "traceback": [
      "\u001b[0;31m---------------------------------------------------------------------------\u001b[0m",
      "\u001b[0;31mDatabaseError\u001b[0m                             Traceback (most recent call last)",
      "\u001b[1;32m/home/shio/projects/hloc/Hierarchical-Localization/pipeline_Aachen.ipynb 单元格 11\u001b[0m line \u001b[0;36m1\n\u001b[0;32m----> <a href='vscode-notebook-cell:/home/shio/projects/hloc/Hierarchical-Localization/pipeline_Aachen.ipynb#X13sZmlsZQ%3D%3D?line=0'>1</a>\u001b[0m colmap_from_nvm\u001b[39m.\u001b[39;49mmain(\n\u001b[1;32m      <a href='vscode-notebook-cell:/home/shio/projects/hloc/Hierarchical-Localization/pipeline_Aachen.ipynb#X13sZmlsZQ%3D%3D?line=1'>2</a>\u001b[0m     dataset \u001b[39m/\u001b[39;49m \u001b[39m'\u001b[39;49m\u001b[39m3D-models/aachen_cvpr2018_db.nvm\u001b[39;49m\u001b[39m'\u001b[39;49m,\n\u001b[1;32m      <a href='vscode-notebook-cell:/home/shio/projects/hloc/Hierarchical-Localization/pipeline_Aachen.ipynb#X13sZmlsZQ%3D%3D?line=2'>3</a>\u001b[0m     dataset \u001b[39m/\u001b[39;49m \u001b[39m'\u001b[39;49m\u001b[39m3D-models/database_intrinsics.txt\u001b[39;49m\u001b[39m'\u001b[39;49m,\n\u001b[1;32m      <a href='vscode-notebook-cell:/home/shio/projects/hloc/Hierarchical-Localization/pipeline_Aachen.ipynb#X13sZmlsZQ%3D%3D?line=3'>4</a>\u001b[0m     dataset \u001b[39m/\u001b[39;49m \u001b[39m'\u001b[39;49m\u001b[39maachen.db\u001b[39;49m\u001b[39m'\u001b[39;49m,\n\u001b[1;32m      <a href='vscode-notebook-cell:/home/shio/projects/hloc/Hierarchical-Localization/pipeline_Aachen.ipynb#X13sZmlsZQ%3D%3D?line=4'>5</a>\u001b[0m     outputs \u001b[39m/\u001b[39;49m \u001b[39m'\u001b[39;49m\u001b[39msfm_sift\u001b[39;49m\u001b[39m'\u001b[39;49m)\n\u001b[1;32m      <a href='vscode-notebook-cell:/home/shio/projects/hloc/Hierarchical-Localization/pipeline_Aachen.ipynb#X13sZmlsZQ%3D%3D?line=6'>7</a>\u001b[0m pairs_from_covisibility\u001b[39m.\u001b[39mmain(\n\u001b[1;32m      <a href='vscode-notebook-cell:/home/shio/projects/hloc/Hierarchical-Localization/pipeline_Aachen.ipynb#X13sZmlsZQ%3D%3D?line=7'>8</a>\u001b[0m     outputs \u001b[39m/\u001b[39m \u001b[39m'\u001b[39m\u001b[39msfm_sift\u001b[39m\u001b[39m'\u001b[39m, sfm_pairs, num_matched\u001b[39m=\u001b[39m\u001b[39m20\u001b[39m)\n",
      "File \u001b[0;32m~/projects/hloc/Hierarchical-Localization/hloc/colmap_from_nvm.py:170\u001b[0m, in \u001b[0;36mmain\u001b[0;34m(nvm, intrinsics, database, output, skip_points)\u001b[0m\n\u001b[1;32m    167\u001b[0m \u001b[39massert\u001b[39;00m intrinsics\u001b[39m.\u001b[39mexists(), intrinsics\n\u001b[1;32m    168\u001b[0m \u001b[39massert\u001b[39;00m database\u001b[39m.\u001b[39mexists(), database\n\u001b[0;32m--> 170\u001b[0m image_ids, camera_ids \u001b[39m=\u001b[39m recover_database_images_and_ids(database)\n\u001b[1;32m    172\u001b[0m logger\u001b[39m.\u001b[39minfo(\u001b[39m'\u001b[39m\u001b[39mReading the NVM model...\u001b[39m\u001b[39m'\u001b[39m)\n\u001b[1;32m    173\u001b[0m model \u001b[39m=\u001b[39m read_nvm_model(\n\u001b[1;32m    174\u001b[0m     nvm, intrinsics, image_ids, camera_ids, skip_points\u001b[39m=\u001b[39mskip_points)\n",
      "File \u001b[0;32m~/projects/hloc/Hierarchical-Localization/hloc/colmap_from_nvm.py:18\u001b[0m, in \u001b[0;36mrecover_database_images_and_ids\u001b[0;34m(database_path)\u001b[0m\n\u001b[1;32m     16\u001b[0m db \u001b[39m=\u001b[39m sqlite3\u001b[39m.\u001b[39mconnect(\u001b[39mstr\u001b[39m(database_path))\n\u001b[1;32m     17\u001b[0m ret \u001b[39m=\u001b[39m db\u001b[39m.\u001b[39mexecute(\u001b[39m\"\u001b[39m\u001b[39mSELECT name, image_id, camera_id FROM images;\u001b[39m\u001b[39m\"\u001b[39m)\n\u001b[0;32m---> 18\u001b[0m \u001b[39mfor\u001b[39;00m name, image_id, camera_id \u001b[39min\u001b[39;00m ret:\n\u001b[1;32m     19\u001b[0m     images[name] \u001b[39m=\u001b[39m image_id\n\u001b[1;32m     20\u001b[0m     cameras[name] \u001b[39m=\u001b[39m camera_id\n",
      "\u001b[0;31mDatabaseError\u001b[0m: database disk image is malformed"
     ]
    }
   ],
   "source": [
    "colmap_from_nvm.main(\n",
    "    dataset / '3D-models/aachen_cvpr2018_db.nvm',\n",
    "    dataset / '3D-models/database_intrinsics.txt',\n",
    "    dataset / 'aachen.db',\n",
    "    outputs / 'sfm_sift')\n",
    "\n",
    "pairs_from_covisibility.main(\n",
    "    outputs / 'sfm_sift', sfm_pairs, num_matched=20)"
   ]
  },
  {
   "cell_type": "markdown",
   "metadata": {},
   "source": [
    "## Match the database images"
   ]
  },
  {
   "cell_type": "code",
   "execution_count": 1,
   "metadata": {},
   "outputs": [
    {
     "ename": "NameError",
     "evalue": "name 'match_features' is not defined",
     "output_type": "error",
     "traceback": [
      "\u001b[0;31m---------------------------------------------------------------------------\u001b[0m",
      "\u001b[0;31mNameError\u001b[0m                                 Traceback (most recent call last)",
      "\u001b[1;32m/home/shio/projects/hloc/Hierarchical-Localization/pipeline_Aachen.ipynb 单元格 13\u001b[0m line \u001b[0;36m1\n\u001b[0;32m----> <a href='vscode-notebook-cell:/home/shio/projects/hloc/Hierarchical-Localization/pipeline_Aachen.ipynb#X15sZmlsZQ%3D%3D?line=0'>1</a>\u001b[0m sfm_matches \u001b[39m=\u001b[39m match_features\u001b[39m.\u001b[39mmain(matcher_conf, sfm_pairs, feature_conf[\u001b[39m'\u001b[39m\u001b[39moutput\u001b[39m\u001b[39m'\u001b[39m], outputs)\n",
      "\u001b[0;31mNameError\u001b[0m: name 'match_features' is not defined"
     ]
    }
   ],
   "source": [
    "sfm_matches = match_features.main(matcher_conf, sfm_pairs, feature_conf['output'], outputs)"
   ]
  },
  {
   "cell_type": "markdown",
   "metadata": {},
   "source": [
    "The function returns the path of the file in which all the computed matches are stored."
   ]
  },
  {
   "cell_type": "markdown",
   "metadata": {},
   "source": [
    "## Triangulate a new SfM model from the given poses\n",
    "We triangulate the sparse 3D pointcloud given the matches and the reference poses stored in the SIFT COLMAP model."
   ]
  },
  {
   "cell_type": "code",
   "execution_count": null,
   "metadata": {},
   "outputs": [
    {
     "ename": "",
     "evalue": "",
     "output_type": "error",
     "traceback": [
      "\u001b[1;31m内核启动失败，因为无法从 \"most likely due to a circular import\" 导入 \"_psutil_linux\"。\n",
      "\u001b[1;31m有关详细信息，请单击 <a href=\"https://aka.ms/kernelFailuresModuleImportErrFromFile\">此处</a>。"
     ]
    }
   ],
   "source": [
    "reconstruction = triangulation.main(\n",
    "    reference_sfm,\n",
    "    outputs / 'sfm_sift',\n",
    "    images,\n",
    "    sfm_pairs,\n",
    "    features,\n",
    "    sfm_matches)"
   ]
  },
  {
   "cell_type": "markdown",
   "metadata": {},
   "source": [
    "## Find image pairs via image retrieval\n",
    "We extract global descriptors with NetVLAD and find for each image the $k$ most similar ones. A larger $k$ improves the robustness of the localization for difficult queries but makes the matching more expensive. Using $k{=}10{-}20$ is generally a good tradeoff but $k{=}50$ gives the best results for the Aachen Day-Night dataset."
   ]
  },
  {
   "cell_type": "code",
   "execution_count": null,
   "metadata": {},
   "outputs": [
    {
     "ename": "",
     "evalue": "",
     "output_type": "error",
     "traceback": [
      "\u001b[1;31m内核启动失败，因为无法从 \"most likely due to a circular import\" 导入 \"_psutil_linux\"。\n",
      "\u001b[1;31m有关详细信息，请单击 <a href=\"https://aka.ms/kernelFailuresModuleImportErrFromFile\">此处</a>。"
     ]
    }
   ],
   "source": [
    "global_descriptors = extract_features.main(retrieval_conf, images, outputs)\n",
    "pairs_from_retrieval.main(global_descriptors, loc_pairs, num_matched=20, db_prefix=\"db\", query_prefix=\"query\")"
   ]
  },
  {
   "cell_type": "markdown",
   "metadata": {},
   "source": [
    "## Match the query images"
   ]
  },
  {
   "cell_type": "code",
   "execution_count": null,
   "metadata": {},
   "outputs": [
    {
     "ename": "",
     "evalue": "",
     "output_type": "error",
     "traceback": [
      "\u001b[1;31m内核启动失败，因为无法从 \"most likely due to a circular import\" 导入 \"_psutil_linux\"。\n",
      "\u001b[1;31m有关详细信息，请单击 <a href=\"https://aka.ms/kernelFailuresModuleImportErrFromFile\">此处</a>。"
     ]
    }
   ],
   "source": [
    "loc_matches = match_features.main(matcher_conf, loc_pairs, feature_conf['output'], outputs)"
   ]
  },
  {
   "cell_type": "markdown",
   "metadata": {},
   "source": [
    "## Localize!\n",
    "Perform hierarchical localization using the precomputed retrieval and matches. The file `Aachen_hloc_superpoint+superglue_netvlad50.txt` will contain the estimated query poses. Have a look at `Aachen_hloc_superpoint+superglue_netvlad50.txt_logs.pkl` to analyze some statistics and find failure cases."
   ]
  },
  {
   "cell_type": "code",
   "execution_count": null,
   "metadata": {},
   "outputs": [
    {
     "ename": "",
     "evalue": "",
     "output_type": "error",
     "traceback": [
      "\u001b[1;31m内核启动失败，因为无法从 \"most likely due to a circular import\" 导入 \"_psutil_linux\"。\n",
      "\u001b[1;31m有关详细信息，请单击 <a href=\"https://aka.ms/kernelFailuresModuleImportErrFromFile\">此处</a>。"
     ]
    }
   ],
   "source": [
    "localize_sfm.main(\n",
    "    reconstruction,\n",
    "    dataset / 'queries/*_time_queries_with_intrinsics.txt',\n",
    "    loc_pairs,\n",
    "    features,\n",
    "    loc_matches,\n",
    "    results,\n",
    "    covisibility_clustering=False)  # not required with SuperPoint+SuperGlue"
   ]
  },
  {
   "cell_type": "markdown",
   "metadata": {},
   "source": [
    "## Visualizing the SfM model\n",
    "We visualize some of the database images with their detected keypoints."
   ]
  },
  {
   "cell_type": "markdown",
   "metadata": {},
   "source": [
    "Color the keypoints by track length: red keypoints are observed many times, blue keypoints few."
   ]
  },
  {
   "cell_type": "code",
   "execution_count": null,
   "metadata": {},
   "outputs": [
    {
     "ename": "",
     "evalue": "",
     "output_type": "error",
     "traceback": [
      "\u001b[1;31m内核启动失败，因为无法从 \"most likely due to a circular import\" 导入 \"_psutil_linux\"。\n",
      "\u001b[1;31m有关详细信息，请单击 <a href=\"https://aka.ms/kernelFailuresModuleImportErrFromFile\">此处</a>。"
     ]
    }
   ],
   "source": [
    "visualization.visualize_sfm_2d(reconstruction, images, n=1, color_by='track_length')"
   ]
  },
  {
   "cell_type": "markdown",
   "metadata": {},
   "source": [
    "Color the keypoints by visibility: blue if sucessfully triangulated, red if never matched."
   ]
  },
  {
   "cell_type": "code",
   "execution_count": null,
   "metadata": {},
   "outputs": [
    {
     "ename": "",
     "evalue": "",
     "output_type": "error",
     "traceback": [
      "\u001b[1;31m内核启动失败，因为无法从 \"most likely due to a circular import\" 导入 \"_psutil_linux\"。\n",
      "\u001b[1;31m有关详细信息，请单击 <a href=\"https://aka.ms/kernelFailuresModuleImportErrFromFile\">此处</a>。"
     ]
    }
   ],
   "source": [
    "visualization.visualize_sfm_2d(reconstruction, images, n=1, color_by='visibility')"
   ]
  },
  {
   "cell_type": "markdown",
   "metadata": {},
   "source": [
    "Color the keypoints by triangulated depth: red keypoints are far away, blue keypoints are closer."
   ]
  },
  {
   "cell_type": "code",
   "execution_count": null,
   "metadata": {},
   "outputs": [
    {
     "ename": "",
     "evalue": "",
     "output_type": "error",
     "traceback": [
      "\u001b[1;31m内核启动失败，因为无法从 \"most likely due to a circular import\" 导入 \"_psutil_linux\"。\n",
      "\u001b[1;31m有关详细信息，请单击 <a href=\"https://aka.ms/kernelFailuresModuleImportErrFromFile\">此处</a>。"
     ]
    }
   ],
   "source": [
    "visualization.visualize_sfm_2d(reconstruction, images, n=1, color_by='depth')"
   ]
  },
  {
   "cell_type": "markdown",
   "metadata": {},
   "source": [
    "## Visualizing the localization\n",
    "We parse the localization logs and for each query image plot matches and inliers with a few database images."
   ]
  },
  {
   "cell_type": "code",
   "execution_count": null,
   "metadata": {},
   "outputs": [
    {
     "ename": "",
     "evalue": "",
     "output_type": "error",
     "traceback": [
      "\u001b[1;31m内核启动失败，因为无法从 \"most likely due to a circular import\" 导入 \"_psutil_linux\"。\n",
      "\u001b[1;31m有关详细信息，请单击 <a href=\"https://aka.ms/kernelFailuresModuleImportErrFromFile\">此处</a>。"
     ]
    }
   ],
   "source": [
    "visualization.visualize_loc(\n",
    "    results, images, reconstruction, n=1, top_k_db=1, prefix='query/night', seed=2)"
   ]
  }
 ],
 "metadata": {
  "kernelspec": {
   "display_name": "Python 3 (ipykernel)",
   "language": "python",
   "name": "python3"
  },
  "language_info": {
   "codemirror_mode": {
    "name": "ipython",
    "version": 3
   },
   "file_extension": ".py",
   "mimetype": "text/x-python",
   "name": "python",
   "nbconvert_exporter": "python",
   "pygments_lexer": "ipython3",
   "version": "3.8.18"
  }
 },
 "nbformat": 4,
 "nbformat_minor": 4
}
