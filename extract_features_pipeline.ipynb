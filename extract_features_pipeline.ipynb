{
 "cells": [
  {
   "cell_type": "code",
   "execution_count": 1,
   "metadata": {},
   "outputs": [],
   "source": [
    "# %load_ext autoreload\n",
    "# %autoreload 2\n",
    "from pathlib import Path\n",
    "\n",
    "from hloc import extract_features\n",
    "from hloc.utils import viz_3d\n",
    "import numpy as np"
   ]
  },
  {
   "cell_type": "code",
   "execution_count": 5,
   "metadata": {},
   "outputs": [],
   "source": [
    "confs = {\n",
    "    'superpoint_aachen': {\n",
    "        'output': 'feats-superpoint-n4096-r1024',\n",
    "        'model': {\n",
    "            'name': 'superpoint',\n",
    "            'nms_radius': 3,\n",
    "            'max_keypoints': 4096,\n",
    "        },\n",
    "        'preprocessing': {\n",
    "            'grayscale': True,\n",
    "            'resize_max': 1024,\n",
    "        },\n",
    "    },\n",
    "    # Resize images to 1600px even if they are originally smaller.\n",
    "    # Improves the keypoint localization if the images are of good quality.\n",
    "    'superpoint_max': {\n",
    "        'output': 'feats-superpoint-n4096-rmax1600',\n",
    "        'model': {\n",
    "            'name': 'superpoint',\n",
    "            'nms_radius': 3,\n",
    "            'max_keypoints': 4096,\n",
    "        },\n",
    "        'preprocessing': {\n",
    "            'grayscale': True,\n",
    "            'resize_max': 1600,\n",
    "            'resize_force': True,\n",
    "        },\n",
    "    },\n",
    "    'superpoint_inloc': {\n",
    "        'output': 'feats-superpoint-n4096-r1600',\n",
    "        'model': {\n",
    "            'name': 'superpoint',\n",
    "            'nms_radius': 4,\n",
    "            'max_keypoints': 4096,\n",
    "        },\n",
    "        'preprocessing': {\n",
    "            'grayscale': True,\n",
    "            'resize_max': 1600,\n",
    "        },\n",
    "    },\n",
    "    'r2d2': {\n",
    "        'output': 'feats-r2d2-n5000-r1024',\n",
    "        'model': {\n",
    "            'name': 'r2d2',\n",
    "            'max_keypoints': 5000,\n",
    "        },\n",
    "        'preprocessing': {\n",
    "            'grayscale': False,\n",
    "            'resize_max': 1024,\n",
    "        },\n",
    "    },\n",
    "    'sift': {\n",
    "        'output': 'feats-sift',\n",
    "        'model': {\n",
    "            'name': 'dog'\n",
    "        },\n",
    "        'preprocessing': {\n",
    "            'grayscale': True,\n",
    "            'resize_max': 1600,\n",
    "        },\n",
    "    },\n",
    "    'sosnet': {\n",
    "        'output': 'feats-sosnet',\n",
    "        'model': {\n",
    "            'name': 'dog',\n",
    "            'descriptor': 'sosnet'\n",
    "        },\n",
    "        'preprocessing': {\n",
    "            'grayscale': True,\n",
    "            'resize_max': 1600,\n",
    "        },\n",
    "    },\n",
    "    'disk': {\n",
    "        'output': 'feats-disk',\n",
    "        'model': {\n",
    "            'name': 'disk',\n",
    "            'max_keypoints': 5000,\n",
    "        },\n",
    "        'preprocessing': {\n",
    "            'grayscale': False,\n",
    "            'resize_max': 1600,\n",
    "        },\n",
    "    }\n",
    "}"
   ]
  },
  {
   "cell_type": "code",
   "execution_count": 6,
   "metadata": {},
   "outputs": [
    {
     "name": "stdout",
     "output_type": "stream",
     "text": [
      "query_list:  ['query/query_001.jpg', 'query/query_002.jpg', 'query/query_003.jpg', 'query/query_004.jpg', 'query/query_005.jpg', 'query/query_006.jpg', 'query/query_007.jpg', 'query/query_008.jpg', 'query/query_009.jpg', 'query/query_010.jpg', 'query/query_011.jpg', 'query/query_012.jpg', 'query/query_013.jpg', 'query/query_014.jpg', 'query/query_015.jpg', 'query/query_016.jpg', 'query/query_017.jpg', 'query/query_018.jpg', 'query/query_019.jpg', 'query/query_020.jpg', 'query/query_021.jpg', 'query/query_022.jpg', 'query/query_023.jpg', 'query/query_024.jpg', 'query/query_025.jpg', 'query/query_026.jpg', 'query/query_027.jpg', 'query/query_028.jpg', 'query/query_029.jpg', 'query/query_030.jpg', 'query/query_031.jpg', 'query/query_032.jpg', 'query/query_033.jpg', 'query/query_034.jpg', 'query/query_035.jpg', 'query/query_036.jpg', 'query/query_037.jpg']\n",
      "db_list:  ['db/db_001.jpg', 'db/db_002.jpg', 'db/db_003.jpg', 'db/db_004.jpg', 'db/db_005.jpg', 'db/db_006.jpg', 'db/db_007.jpg', 'db/db_008.jpg', 'db/db_009.jpg', 'db/db_010.jpg', 'db/db_011.jpg', 'db/db_012.jpg', 'db/db_013.jpg', 'db/db_014.jpg', 'db/db_015.jpg', 'db/db_016.jpg', 'db/db_017.jpg', 'db/db_018.jpg', 'db/db_019.jpg', 'db/db_020.jpg', 'db/db_021.jpg', 'db/db_022.jpg', 'db/db_023.jpg', 'db/db_024.jpg', 'db/db_025.jpg', 'db/db_026.jpg', 'db/db_027.jpg', 'db/db_028.jpg', 'db/db_029.jpg', 'db/db_030.jpg', 'db/db_031.jpg', 'db/db_032.jpg', 'db/db_033.jpg', 'db/db_034.jpg', 'db/db_035.jpg', 'db/db_036.jpg', 'db/db_037.jpg', 'db/db_038.jpg', 'db/db_039.jpg', 'db/db_040.jpg', 'db/db_041.jpg', 'db/db_042.jpg', 'db/db_043.jpg', 'db/db_044.jpg', 'db/db_045.jpg', 'db/db_046.jpg', 'db/db_047.jpg', 'db/db_048.jpg', 'db/db_049.jpg', 'db/db_050.jpg', 'db/db_051.jpg', 'db/db_052.jpg', 'db/db_053.jpg', 'db/db_054.jpg', 'db/db_055.jpg', 'db/db_056.jpg', 'db/db_057.jpg', 'db/db_058.jpg', 'db/db_059.jpg', 'db/db_060.jpg', 'db/db_061.jpg', 'db/db_062.jpg', 'db/db_063.jpg', 'db/db_064.jpg', 'db/db_065.jpg', 'db/db_066.jpg', 'db/db_067.jpg', 'db/db_068.jpg', 'db/db_069.jpg', 'db/db_070.jpg', 'db/db_071.jpg', 'db/db_072.jpg', 'db/db_073.jpg', 'db/db_074.jpg', 'db/db_075.jpg', 'db/db_076.jpg', 'db/db_077.jpg', 'db/db_078.jpg', 'db/db_079.jpg', 'db/db_080.jpg', 'db/db_081.jpg', 'db/db_082.jpg', 'db/db_083.jpg', 'db/db_084.jpg', 'db/db_085.jpg', 'db/db_086.jpg', 'db/db_087.jpg', 'db/db_088.jpg', 'db/db_089.jpg', 'db/db_090.jpg', 'db/db_091.jpg', 'db/db_092.jpg', 'db/db_093.jpg', 'db/db_094.jpg', 'db/db_095.jpg', 'db/db_096.jpg', 'db/db_097.jpg', 'db/db_098.jpg', 'db/db_099.jpg', 'db/db_100.jpg', 'db/db_101.jpg', 'db/db_102.jpg', 'db/db_103.jpg', 'db/db_104.jpg', 'db/db_105.jpg', 'db/db_106.jpg', 'db/db_107.jpg', 'db/db_108.jpg', 'db/db_109.jpg', 'db/db_110.jpg', 'db/db_111.jpg', 'db/db_112.jpg', 'db/db_113.jpg', 'db/db_114.jpg', 'db/db_115.jpg', 'db/db_116.jpg', 'db/db_117.jpg', 'db/db_118.jpg', 'db/db_119.jpg', 'db/db_120.jpg', 'db/db_121.jpg', 'db/db_122.jpg', 'db/db_123.jpg', 'db/db_124.jpg', 'db/db_125.jpg', 'db/db_126.jpg', 'db/db_127.jpg', 'db/db_128.jpg', 'db/db_129.jpg', 'db/db_130.jpg', 'db/db_131.jpg', 'db/db_132.jpg', 'db/db_133.jpg', 'db/db_134.jpg', 'db/db_135.jpg', 'db/db_136.jpg', 'db/db_137.jpg', 'db/db_138.jpg', 'db/db_139.jpg', 'db/db_140.jpg', 'db/db_141.jpg', 'db/db_142.jpg', 'db/db_143.jpg', 'db/db_144.jpg', 'db/db_145.jpg', 'db/db_146.jpg', 'db/db_147.jpg', 'db/db_148.jpg', 'db/db_149.jpg', 'db/db_150.jpg', 'db/db_151.jpg', 'db/db_152.jpg', 'db/db_153.jpg', 'db/db_154.jpg', 'db/db_155.jpg', 'db/db_156.jpg', 'db/db_157.jpg', 'db/db_158.jpg', 'db/db_159.jpg', 'db/db_160.jpg', 'db/db_161.jpg', 'db/db_162.jpg', 'db/db_163.jpg', 'db/db_164.jpg', 'db/db_165.jpg', 'db/db_166.jpg', 'db/db_167.jpg', 'db/db_168.jpg', 'db/db_169.jpg', 'db/db_170.jpg', 'db/db_171.jpg', 'db/db_172.jpg', 'db/db_173.jpg', 'db/db_174.jpg', 'db/db_175.jpg', 'db/db_176.jpg', 'db/db_177.jpg', 'db/db_178.jpg', 'db/db_179.jpg', 'db/db_180.jpg', 'db/db_181.jpg', 'db/db_182.jpg', 'db/db_183.jpg', 'db/db_184.jpg', 'db/db_185.jpg', 'db/db_186.jpg', 'db/db_187.jpg', 'db/db_188.jpg', 'db/db_189.jpg', 'db/db_190.jpg', 'db/db_191.jpg', 'db/db_192.jpg', 'db/db_193.jpg', 'db/db_194.jpg', 'db/db_195.jpg', 'db/db_196.jpg', 'db/db_197.jpg', 'db/db_198.jpg', 'db/db_199.jpg', 'db/db_200.jpg', 'db/db_201.jpg', 'db/db_202.jpg', 'db/db_203.jpg', 'db/db_204.jpg', 'db/db_205.jpg', 'db/db_206.jpg', 'db/db_207.jpg', 'db/db_208.jpg', 'db/db_209.jpg', 'db/db_210.jpg', 'db/db_211.jpg', 'db/db_212.jpg', 'db/db_213.jpg', 'db/db_214.jpg', 'db/db_215.jpg', 'db/db_216.jpg', 'db/db_217.jpg', 'db/db_218.jpg', 'db/db_219.jpg', 'db/db_220.jpg', 'db/db_221.jpg', 'db/db_222.jpg', 'db/db_223.jpg', 'db/db_224.jpg', 'db/db_225.jpg', 'db/db_226.jpg', 'db/db_227.jpg', 'db/db_228.jpg', 'db/db_229.jpg', 'db/db_230.jpg', 'db/db_231.jpg', 'db/db_232.jpg', 'db/db_233.jpg', 'db/db_234.jpg']\n",
      "ref:  ['db/db_001.jpg', 'db/db_002.jpg', 'db/db_003.jpg', 'db/db_004.jpg', 'db/db_005.jpg', 'db/db_006.jpg', 'db/db_007.jpg', 'db/db_008.jpg', 'db/db_009.jpg', 'db/db_010.jpg', 'db/db_011.jpg', 'db/db_012.jpg', 'db/db_013.jpg', 'db/db_014.jpg', 'db/db_015.jpg', 'db/db_016.jpg', 'db/db_017.jpg', 'db/db_018.jpg', 'db/db_019.jpg', 'db/db_020.jpg', 'db/db_021.jpg', 'db/db_022.jpg', 'db/db_023.jpg', 'db/db_024.jpg', 'db/db_025.jpg', 'db/db_026.jpg', 'db/db_027.jpg', 'db/db_028.jpg', 'db/db_029.jpg', 'db/db_030.jpg', 'db/db_031.jpg', 'db/db_032.jpg', 'db/db_033.jpg', 'db/db_034.jpg', 'db/db_035.jpg', 'db/db_036.jpg', 'db/db_037.jpg', 'db/db_038.jpg', 'db/db_039.jpg', 'db/db_040.jpg', 'db/db_041.jpg', 'db/db_042.jpg', 'db/db_043.jpg', 'db/db_044.jpg', 'db/db_045.jpg', 'db/db_046.jpg', 'db/db_047.jpg', 'db/db_048.jpg', 'db/db_049.jpg', 'db/db_050.jpg', 'db/db_051.jpg', 'db/db_052.jpg', 'db/db_053.jpg', 'db/db_054.jpg', 'db/db_055.jpg', 'db/db_056.jpg', 'db/db_057.jpg', 'db/db_058.jpg', 'db/db_059.jpg', 'db/db_060.jpg', 'db/db_061.jpg', 'db/db_062.jpg', 'db/db_063.jpg', 'db/db_064.jpg', 'db/db_065.jpg', 'db/db_066.jpg', 'db/db_067.jpg', 'db/db_068.jpg', 'db/db_069.jpg', 'db/db_070.jpg', 'db/db_071.jpg', 'db/db_072.jpg', 'db/db_073.jpg', 'db/db_074.jpg', 'db/db_075.jpg', 'db/db_076.jpg', 'db/db_077.jpg', 'db/db_078.jpg', 'db/db_079.jpg', 'db/db_080.jpg', 'db/db_081.jpg', 'db/db_082.jpg', 'db/db_083.jpg', 'db/db_084.jpg', 'db/db_085.jpg', 'db/db_086.jpg', 'db/db_087.jpg', 'db/db_088.jpg', 'db/db_089.jpg', 'db/db_090.jpg', 'db/db_091.jpg', 'db/db_092.jpg', 'db/db_093.jpg', 'db/db_094.jpg', 'db/db_095.jpg', 'db/db_096.jpg', 'db/db_097.jpg', 'db/db_098.jpg', 'db/db_099.jpg', 'db/db_100.jpg', 'db/db_101.jpg', 'db/db_102.jpg', 'db/db_103.jpg', 'db/db_104.jpg', 'db/db_105.jpg', 'db/db_106.jpg', 'db/db_107.jpg', 'db/db_108.jpg', 'db/db_109.jpg', 'db/db_110.jpg', 'db/db_111.jpg', 'db/db_112.jpg', 'db/db_113.jpg', 'db/db_114.jpg', 'db/db_115.jpg', 'db/db_116.jpg', 'db/db_117.jpg', 'db/db_118.jpg', 'db/db_119.jpg', 'db/db_120.jpg', 'db/db_121.jpg', 'db/db_122.jpg', 'db/db_123.jpg', 'db/db_124.jpg', 'db/db_125.jpg', 'db/db_126.jpg', 'db/db_127.jpg', 'db/db_128.jpg', 'db/db_129.jpg', 'db/db_130.jpg', 'db/db_131.jpg', 'db/db_132.jpg', 'db/db_133.jpg', 'db/db_134.jpg', 'db/db_135.jpg', 'db/db_136.jpg', 'db/db_137.jpg', 'db/db_138.jpg', 'db/db_139.jpg', 'db/db_140.jpg', 'db/db_141.jpg', 'db/db_142.jpg', 'db/db_143.jpg', 'db/db_144.jpg', 'db/db_145.jpg', 'db/db_146.jpg', 'db/db_147.jpg', 'db/db_148.jpg', 'db/db_149.jpg', 'db/db_150.jpg', 'db/db_151.jpg', 'db/db_152.jpg', 'db/db_153.jpg', 'db/db_154.jpg', 'db/db_155.jpg', 'db/db_156.jpg', 'db/db_157.jpg', 'db/db_158.jpg', 'db/db_159.jpg', 'db/db_160.jpg', 'db/db_161.jpg', 'db/db_162.jpg', 'db/db_163.jpg', 'db/db_164.jpg', 'db/db_165.jpg', 'db/db_166.jpg', 'db/db_167.jpg', 'db/db_168.jpg', 'db/db_169.jpg', 'db/db_170.jpg', 'db/db_171.jpg', 'db/db_172.jpg', 'db/db_173.jpg', 'db/db_174.jpg', 'db/db_175.jpg', 'db/db_176.jpg', 'db/db_177.jpg', 'db/db_178.jpg', 'db/db_179.jpg', 'db/db_180.jpg', 'db/db_181.jpg', 'db/db_182.jpg', 'db/db_183.jpg', 'db/db_184.jpg', 'db/db_185.jpg', 'db/db_186.jpg', 'db/db_187.jpg', 'db/db_188.jpg', 'db/db_189.jpg', 'db/db_190.jpg', 'db/db_191.jpg', 'db/db_192.jpg', 'db/db_193.jpg', 'db/db_194.jpg', 'db/db_195.jpg', 'db/db_196.jpg', 'db/db_197.jpg', 'db/db_198.jpg', 'db/db_199.jpg', 'db/db_200.jpg', 'db/db_201.jpg', 'db/db_202.jpg', 'db/db_203.jpg', 'db/db_204.jpg', 'db/db_205.jpg', 'db/db_206.jpg', 'db/db_207.jpg', 'db/db_208.jpg', 'db/db_209.jpg', 'db/db_210.jpg', 'db/db_211.jpg', 'db/db_212.jpg', 'db/db_213.jpg', 'db/db_214.jpg', 'db/db_215.jpg', 'db/db_216.jpg', 'db/db_217.jpg', 'db/db_218.jpg', 'db/db_219.jpg', 'db/db_220.jpg', 'db/db_221.jpg', 'db/db_222.jpg', 'db/db_223.jpg', 'db/db_224.jpg', 'db/db_225.jpg', 'db/db_226.jpg', 'db/db_227.jpg', 'db/db_228.jpg', 'db/db_229.jpg', 'db/db_230.jpg', 'db/db_231.jpg', 'db/db_232.jpg', 'db/db_233.jpg', 'db/db_234.jpg', 'query/query_001.jpg', 'query/query_002.jpg', 'query/query_003.jpg', 'query/query_004.jpg', 'query/query_005.jpg', 'query/query_006.jpg', 'query/query_007.jpg', 'query/query_008.jpg', 'query/query_009.jpg', 'query/query_010.jpg', 'query/query_011.jpg', 'query/query_012.jpg', 'query/query_013.jpg', 'query/query_014.jpg', 'query/query_015.jpg', 'query/query_016.jpg', 'query/query_017.jpg', 'query/query_018.jpg', 'query/query_019.jpg', 'query/query_020.jpg', 'query/query_021.jpg', 'query/query_022.jpg', 'query/query_023.jpg', 'query/query_024.jpg', 'query/query_025.jpg', 'query/query_026.jpg', 'query/query_027.jpg', 'query/query_028.jpg', 'query/query_029.jpg', 'query/query_030.jpg', 'query/query_031.jpg', 'query/query_032.jpg', 'query/query_033.jpg', 'query/query_034.jpg', 'query/query_035.jpg', 'query/query_036.jpg', 'query/query_037.jpg']\n"
     ]
    }
   ],
   "source": [
    "images = Path('datasets/theater/')\n",
    "outputs = Path('outputs/theater/features/')\n",
    "images_db = images / 'db/'\n",
    "images_query = images / 'query/'\n",
    "\n",
    "query_list = [p.relative_to(images).as_posix()\n",
    "              for p in (images / 'query/').iterdir()]\n",
    "db_list = [p.relative_to(images).as_posix()\n",
    "           for p in (images / 'db/').iterdir()]\n",
    "query_list.sort()\n",
    "db_list.sort()\n",
    "print('query_list: ', query_list)\n",
    "print('db_list: ', db_list)\n",
    "\n",
    "ref = db_list + query_list\n",
    "print('ref: ', ref)"
   ]
  },
  {
   "cell_type": "code",
   "execution_count": 9,
   "metadata": {},
   "outputs": [
    {
     "name": "stderr",
     "output_type": "stream",
     "text": [
      "[2024/01/06 10:51:12 hloc INFO] Extracting local features with configuration:\n",
      "{'model': {'max_keypoints': 5000, 'name': 'disk'},\n",
      " 'output': 'feats-disk',\n",
      " 'preprocessing': {'grayscale': False, 'resize_max': 1600}}\n"
     ]
    },
    {
     "name": "stdout",
     "output_type": "stream",
     "text": [
      "#### feature_conf :  disk \n",
      "\n",
      "#### filename :  feats-disk.h5 \n",
      "\n"
     ]
    },
    {
     "name": "stderr",
     "output_type": "stream",
     "text": [
      "  0%|          | 0/37 [00:00<?, ?it/s]\n"
     ]
    },
    {
     "ename": "OutOfMemoryError",
     "evalue": "CUDA out of memory. Tried to allocate 586.00 MiB (GPU 0; 3.81 GiB total capacity; 1.28 GiB already allocated; 201.88 MiB free; 1.79 GiB reserved in total by PyTorch) If reserved memory is >> allocated memory try setting max_split_size_mb to avoid fragmentation.  See documentation for Memory Management and PYTORCH_CUDA_ALLOC_CONF",
     "output_type": "error",
     "traceback": [
      "\u001b[0;31m---------------------------------------------------------------------------\u001b[0m",
      "\u001b[0;31mOutOfMemoryError\u001b[0m                          Traceback (most recent call last)",
      "\u001b[1;32m/home/shio/Projects/3D_reconstruction_and_localization_with_hloc/extract_features_pipeline.ipynb 单元格 4\u001b[0m line \u001b[0;36m1\n\u001b[1;32m      <a href='vscode-notebook-cell:/home/shio/Projects/3D_reconstruction_and_localization_with_hloc/extract_features_pipeline.ipynb#W3sZmlsZQ%3D%3D?line=6'>7</a>\u001b[0m features \u001b[39m=\u001b[39m outputs \u001b[39m/\u001b[39m filename\n\u001b[1;32m      <a href='vscode-notebook-cell:/home/shio/Projects/3D_reconstruction_and_localization_with_hloc/extract_features_pipeline.ipynb#W3sZmlsZQ%3D%3D?line=8'>9</a>\u001b[0m timer \u001b[39m=\u001b[39m time\u001b[39m.\u001b[39mtime()\n\u001b[0;32m---> <a href='vscode-notebook-cell:/home/shio/Projects/3D_reconstruction_and_localization_with_hloc/extract_features_pipeline.ipynb#W3sZmlsZQ%3D%3D?line=9'>10</a>\u001b[0m feature_path \u001b[39m=\u001b[39m extract_features\u001b[39m.\u001b[39;49mmain(\n\u001b[1;32m     <a href='vscode-notebook-cell:/home/shio/Projects/3D_reconstruction_and_localization_with_hloc/extract_features_pipeline.ipynb#W3sZmlsZQ%3D%3D?line=10'>11</a>\u001b[0m     conf\u001b[39m=\u001b[39;49mconfs[feature_conf],\n\u001b[1;32m     <a href='vscode-notebook-cell:/home/shio/Projects/3D_reconstruction_and_localization_with_hloc/extract_features_pipeline.ipynb#W3sZmlsZQ%3D%3D?line=11'>12</a>\u001b[0m     image_dir\u001b[39m=\u001b[39;49mimages,\n\u001b[1;32m     <a href='vscode-notebook-cell:/home/shio/Projects/3D_reconstruction_and_localization_with_hloc/extract_features_pipeline.ipynb#W3sZmlsZQ%3D%3D?line=12'>13</a>\u001b[0m     image_list\u001b[39m=\u001b[39;49mquery_list,\n\u001b[1;32m     <a href='vscode-notebook-cell:/home/shio/Projects/3D_reconstruction_and_localization_with_hloc/extract_features_pipeline.ipynb#W3sZmlsZQ%3D%3D?line=13'>14</a>\u001b[0m     export_dir\u001b[39m=\u001b[39;49moutputs,\n\u001b[1;32m     <a href='vscode-notebook-cell:/home/shio/Projects/3D_reconstruction_and_localization_with_hloc/extract_features_pipeline.ipynb#W3sZmlsZQ%3D%3D?line=14'>15</a>\u001b[0m     feature_path\u001b[39m=\u001b[39;49mfeatures)\n\u001b[1;32m     <a href='vscode-notebook-cell:/home/shio/Projects/3D_reconstruction_and_localization_with_hloc/extract_features_pipeline.ipynb#W3sZmlsZQ%3D%3D?line=15'>16</a>\u001b[0m time_cost \u001b[39m=\u001b[39m time\u001b[39m.\u001b[39mtime() \u001b[39m-\u001b[39m timer\n\u001b[1;32m     <a href='vscode-notebook-cell:/home/shio/Projects/3D_reconstruction_and_localization_with_hloc/extract_features_pipeline.ipynb#W3sZmlsZQ%3D%3D?line=17'>18</a>\u001b[0m \u001b[39mprint\u001b[39m(\u001b[39m\"\u001b[39m\u001b[39m#### feature_path : \u001b[39m\u001b[39m\"\u001b[39m, feature_path, \u001b[39m\"\u001b[39m\u001b[39m\\n\u001b[39;00m\u001b[39m\"\u001b[39m)\n",
      "File \u001b[0;32m~/anaconda3/envs/hloc/lib/python3.8/site-packages/torch/autograd/grad_mode.py:27\u001b[0m, in \u001b[0;36m_DecoratorContextManager.__call__.<locals>.decorate_context\u001b[0;34m(*args, **kwargs)\u001b[0m\n\u001b[1;32m     24\u001b[0m \u001b[39m@functools\u001b[39m\u001b[39m.\u001b[39mwraps(func)\n\u001b[1;32m     25\u001b[0m \u001b[39mdef\u001b[39;00m \u001b[39mdecorate_context\u001b[39m(\u001b[39m*\u001b[39margs, \u001b[39m*\u001b[39m\u001b[39m*\u001b[39mkwargs):\n\u001b[1;32m     26\u001b[0m     \u001b[39mwith\u001b[39;00m \u001b[39mself\u001b[39m\u001b[39m.\u001b[39mclone():\n\u001b[0;32m---> 27\u001b[0m         \u001b[39mreturn\u001b[39;00m func(\u001b[39m*\u001b[39;49margs, \u001b[39m*\u001b[39;49m\u001b[39m*\u001b[39;49mkwargs)\n",
      "File \u001b[0;32m~/Projects/3D_reconstruction_and_localization_with_hloc/hloc/extract_features.py:259\u001b[0m, in \u001b[0;36mmain\u001b[0;34m(conf, image_dir, export_dir, as_half, image_list, feature_path, overwrite)\u001b[0m\n\u001b[1;32m    257\u001b[0m \u001b[39mfor\u001b[39;00m idx, data \u001b[39min\u001b[39;00m \u001b[39menumerate\u001b[39m(tqdm(loader)):\n\u001b[1;32m    258\u001b[0m     name \u001b[39m=\u001b[39m dataset\u001b[39m.\u001b[39mnames[idx]\n\u001b[0;32m--> 259\u001b[0m     pred \u001b[39m=\u001b[39m model({\u001b[39m'\u001b[39;49m\u001b[39mimage\u001b[39;49m\u001b[39m'\u001b[39;49m: data[\u001b[39m'\u001b[39;49m\u001b[39mimage\u001b[39;49m\u001b[39m'\u001b[39;49m]\u001b[39m.\u001b[39;49mto(device, non_blocking\u001b[39m=\u001b[39;49m\u001b[39mTrue\u001b[39;49;00m)})\n\u001b[1;32m    260\u001b[0m     pred \u001b[39m=\u001b[39m {k: v[\u001b[39m0\u001b[39m]\u001b[39m.\u001b[39mcpu()\u001b[39m.\u001b[39mnumpy() \u001b[39mfor\u001b[39;00m k, v \u001b[39min\u001b[39;00m pred\u001b[39m.\u001b[39mitems()}\n\u001b[1;32m    262\u001b[0m     pred[\u001b[39m'\u001b[39m\u001b[39mimage_size\u001b[39m\u001b[39m'\u001b[39m] \u001b[39m=\u001b[39m original_size \u001b[39m=\u001b[39m data[\u001b[39m'\u001b[39m\u001b[39moriginal_size\u001b[39m\u001b[39m'\u001b[39m][\u001b[39m0\u001b[39m]\u001b[39m.\u001b[39mnumpy()\n",
      "File \u001b[0;32m~/anaconda3/envs/hloc/lib/python3.8/site-packages/torch/nn/modules/module.py:1194\u001b[0m, in \u001b[0;36mModule._call_impl\u001b[0;34m(self, *input, **kwargs)\u001b[0m\n\u001b[1;32m   1190\u001b[0m \u001b[39m# If we don't have any hooks, we want to skip the rest of the logic in\u001b[39;00m\n\u001b[1;32m   1191\u001b[0m \u001b[39m# this function, and just call forward.\u001b[39;00m\n\u001b[1;32m   1192\u001b[0m \u001b[39mif\u001b[39;00m \u001b[39mnot\u001b[39;00m (\u001b[39mself\u001b[39m\u001b[39m.\u001b[39m_backward_hooks \u001b[39mor\u001b[39;00m \u001b[39mself\u001b[39m\u001b[39m.\u001b[39m_forward_hooks \u001b[39mor\u001b[39;00m \u001b[39mself\u001b[39m\u001b[39m.\u001b[39m_forward_pre_hooks \u001b[39mor\u001b[39;00m _global_backward_hooks\n\u001b[1;32m   1193\u001b[0m         \u001b[39mor\u001b[39;00m _global_forward_hooks \u001b[39mor\u001b[39;00m _global_forward_pre_hooks):\n\u001b[0;32m-> 1194\u001b[0m     \u001b[39mreturn\u001b[39;00m forward_call(\u001b[39m*\u001b[39;49m\u001b[39minput\u001b[39;49m, \u001b[39m*\u001b[39;49m\u001b[39m*\u001b[39;49mkwargs)\n\u001b[1;32m   1195\u001b[0m \u001b[39m# Do not call functions when jit is used\u001b[39;00m\n\u001b[1;32m   1196\u001b[0m full_backward_hooks, non_full_backward_hooks \u001b[39m=\u001b[39m [], []\n",
      "File \u001b[0;32m~/Projects/3D_reconstruction_and_localization_with_hloc/hloc/utils/base_model.py:24\u001b[0m, in \u001b[0;36mBaseModel.forward\u001b[0;34m(self, data)\u001b[0m\n\u001b[1;32m     22\u001b[0m \u001b[39mfor\u001b[39;00m key \u001b[39min\u001b[39;00m \u001b[39mself\u001b[39m\u001b[39m.\u001b[39mrequired_inputs:\n\u001b[1;32m     23\u001b[0m     \u001b[39massert\u001b[39;00m key \u001b[39min\u001b[39;00m data, \u001b[39m'\u001b[39m\u001b[39mMissing key \u001b[39m\u001b[39m{}\u001b[39;00m\u001b[39m in data\u001b[39m\u001b[39m'\u001b[39m\u001b[39m.\u001b[39mformat(key)\n\u001b[0;32m---> 24\u001b[0m \u001b[39mreturn\u001b[39;00m \u001b[39mself\u001b[39;49m\u001b[39m.\u001b[39;49m_forward(data)\n",
      "File \u001b[0;32m~/Projects/3D_reconstruction_and_localization_with_hloc/hloc/extractors/disk.py:21\u001b[0m, in \u001b[0;36mDISK._forward\u001b[0;34m(self, data)\u001b[0m\n\u001b[1;32m     19\u001b[0m \u001b[39mdef\u001b[39;00m \u001b[39m_forward\u001b[39m(\u001b[39mself\u001b[39m, data):\n\u001b[1;32m     20\u001b[0m     image \u001b[39m=\u001b[39m data[\u001b[39m'\u001b[39m\u001b[39mimage\u001b[39m\u001b[39m'\u001b[39m]\n\u001b[0;32m---> 21\u001b[0m     features \u001b[39m=\u001b[39m \u001b[39mself\u001b[39;49m\u001b[39m.\u001b[39;49mmodel(\n\u001b[1;32m     22\u001b[0m         image,\n\u001b[1;32m     23\u001b[0m         n\u001b[39m=\u001b[39;49m\u001b[39mself\u001b[39;49m\u001b[39m.\u001b[39;49mconf[\u001b[39m'\u001b[39;49m\u001b[39mmax_keypoints\u001b[39;49m\u001b[39m'\u001b[39;49m],\n\u001b[1;32m     24\u001b[0m         window_size\u001b[39m=\u001b[39;49m\u001b[39mself\u001b[39;49m\u001b[39m.\u001b[39;49mconf[\u001b[39m'\u001b[39;49m\u001b[39mnms_window_size\u001b[39;49m\u001b[39m'\u001b[39;49m],\n\u001b[1;32m     25\u001b[0m         score_threshold\u001b[39m=\u001b[39;49m\u001b[39mself\u001b[39;49m\u001b[39m.\u001b[39;49mconf[\u001b[39m'\u001b[39;49m\u001b[39mdetection_threshold\u001b[39;49m\u001b[39m'\u001b[39;49m],\n\u001b[1;32m     26\u001b[0m         pad_if_not_divisible\u001b[39m=\u001b[39;49m\u001b[39mself\u001b[39;49m\u001b[39m.\u001b[39;49mconf[\u001b[39m'\u001b[39;49m\u001b[39mpad_if_not_divisible\u001b[39;49m\u001b[39m'\u001b[39;49m],\n\u001b[1;32m     27\u001b[0m     )\n\u001b[1;32m     28\u001b[0m     \u001b[39mreturn\u001b[39;00m {\n\u001b[1;32m     29\u001b[0m         \u001b[39m'\u001b[39m\u001b[39mkeypoints\u001b[39m\u001b[39m'\u001b[39m: [f\u001b[39m.\u001b[39mkeypoints \u001b[39mfor\u001b[39;00m f \u001b[39min\u001b[39;00m features],\n\u001b[1;32m     30\u001b[0m         \u001b[39m'\u001b[39m\u001b[39mkeypoint_scores\u001b[39m\u001b[39m'\u001b[39m: [f\u001b[39m.\u001b[39mdetection_scores \u001b[39mfor\u001b[39;00m f \u001b[39min\u001b[39;00m features],\n\u001b[1;32m     31\u001b[0m         \u001b[39m'\u001b[39m\u001b[39mdescriptors\u001b[39m\u001b[39m'\u001b[39m: [f\u001b[39m.\u001b[39mdescriptors\u001b[39m.\u001b[39mt() \u001b[39mfor\u001b[39;00m f \u001b[39min\u001b[39;00m features],\n\u001b[1;32m     32\u001b[0m     }\n",
      "File \u001b[0;32m~/anaconda3/envs/hloc/lib/python3.8/site-packages/torch/nn/modules/module.py:1194\u001b[0m, in \u001b[0;36mModule._call_impl\u001b[0;34m(self, *input, **kwargs)\u001b[0m\n\u001b[1;32m   1190\u001b[0m \u001b[39m# If we don't have any hooks, we want to skip the rest of the logic in\u001b[39;00m\n\u001b[1;32m   1191\u001b[0m \u001b[39m# this function, and just call forward.\u001b[39;00m\n\u001b[1;32m   1192\u001b[0m \u001b[39mif\u001b[39;00m \u001b[39mnot\u001b[39;00m (\u001b[39mself\u001b[39m\u001b[39m.\u001b[39m_backward_hooks \u001b[39mor\u001b[39;00m \u001b[39mself\u001b[39m\u001b[39m.\u001b[39m_forward_hooks \u001b[39mor\u001b[39;00m \u001b[39mself\u001b[39m\u001b[39m.\u001b[39m_forward_pre_hooks \u001b[39mor\u001b[39;00m _global_backward_hooks\n\u001b[1;32m   1193\u001b[0m         \u001b[39mor\u001b[39;00m _global_forward_hooks \u001b[39mor\u001b[39;00m _global_forward_pre_hooks):\n\u001b[0;32m-> 1194\u001b[0m     \u001b[39mreturn\u001b[39;00m forward_call(\u001b[39m*\u001b[39;49m\u001b[39minput\u001b[39;49m, \u001b[39m*\u001b[39;49m\u001b[39m*\u001b[39;49mkwargs)\n\u001b[1;32m   1195\u001b[0m \u001b[39m# Do not call functions when jit is used\u001b[39;00m\n\u001b[1;32m   1196\u001b[0m full_backward_hooks, non_full_backward_hooks \u001b[39m=\u001b[39m [], []\n",
      "File \u001b[0;32m~/anaconda3/envs/hloc/lib/python3.8/site-packages/kornia/feature/disk/disk.py:93\u001b[0m, in \u001b[0;36mDISK.forward\u001b[0;34m(self, images, n, window_size, score_threshold, pad_if_not_divisible)\u001b[0m\n\u001b[1;32m     90\u001b[0m     pd_w \u001b[39m=\u001b[39m \u001b[39m16\u001b[39m \u001b[39m-\u001b[39m w \u001b[39m%\u001b[39m \u001b[39m16\u001b[39m \u001b[39mif\u001b[39;00m w \u001b[39m%\u001b[39m \u001b[39m16\u001b[39m \u001b[39m>\u001b[39m \u001b[39m0\u001b[39m \u001b[39melse\u001b[39;00m \u001b[39m0\u001b[39m\n\u001b[1;32m     91\u001b[0m     images \u001b[39m=\u001b[39m torch\u001b[39m.\u001b[39mnn\u001b[39m.\u001b[39mfunctional\u001b[39m.\u001b[39mpad(images, (\u001b[39m0\u001b[39m, pd_w, \u001b[39m0\u001b[39m, pd_h), value\u001b[39m=\u001b[39m\u001b[39m0.0\u001b[39m)\n\u001b[0;32m---> 93\u001b[0m heatmaps, descriptors \u001b[39m=\u001b[39m \u001b[39mself\u001b[39;49m\u001b[39m.\u001b[39;49mheatmap_and_dense_descriptors(images)\n\u001b[1;32m     94\u001b[0m \u001b[39mif\u001b[39;00m pad_if_not_divisible:\n\u001b[1;32m     95\u001b[0m     heatmaps \u001b[39m=\u001b[39m heatmaps[\u001b[39m.\u001b[39m\u001b[39m.\u001b[39m\u001b[39m.\u001b[39m, :h, :w]\n",
      "File \u001b[0;32m~/anaconda3/envs/hloc/lib/python3.8/site-packages/kornia/feature/disk/disk.py:53\u001b[0m, in \u001b[0;36mDISK.heatmap_and_dense_descriptors\u001b[0;34m(self, images)\u001b[0m\n\u001b[1;32m     40\u001b[0m \u001b[39mdef\u001b[39;00m \u001b[39mheatmap_and_dense_descriptors\u001b[39m(\u001b[39mself\u001b[39m, images: Tensor) \u001b[39m-\u001b[39m\u001b[39m>\u001b[39m \u001b[39mtuple\u001b[39m[Tensor, Tensor]:\n\u001b[1;32m     41\u001b[0m \u001b[39m    \u001b[39m\u001b[39m\"\"\"Returns the heatmap and the dense descriptors.\u001b[39;00m\n\u001b[1;32m     42\u001b[0m \n\u001b[1;32m     43\u001b[0m \u001b[39m    .. image:: _static/img/DISK.png\u001b[39;00m\n\u001b[0;32m   (...)\u001b[0m\n\u001b[1;32m     51\u001b[0m \u001b[39m        :math:`D` is the descriptor dimension.\u001b[39;00m\n\u001b[1;32m     52\u001b[0m \u001b[39m    \"\"\"\u001b[39;00m\n\u001b[0;32m---> 53\u001b[0m     unet_output \u001b[39m=\u001b[39m \u001b[39mself\u001b[39;49m\u001b[39m.\u001b[39;49munet(images)\n\u001b[1;32m     55\u001b[0m     \u001b[39mif\u001b[39;00m unet_output\u001b[39m.\u001b[39mshape[\u001b[39m1\u001b[39m] \u001b[39m!=\u001b[39m \u001b[39mself\u001b[39m\u001b[39m.\u001b[39mdesc_dim \u001b[39m+\u001b[39m \u001b[39m1\u001b[39m:\n\u001b[1;32m     56\u001b[0m         \u001b[39mraise\u001b[39;00m \u001b[39mValueError\u001b[39;00m(\n\u001b[1;32m     57\u001b[0m             \u001b[39mf\u001b[39m\u001b[39m'\u001b[39m\u001b[39mU-Net output has \u001b[39m\u001b[39m{\u001b[39;00munet_output\u001b[39m.\u001b[39mshape[\u001b[39m1\u001b[39m]\u001b[39m}\u001b[39;00m\u001b[39m channels, but expected self.desc_dim=\u001b[39m\u001b[39m{\u001b[39;00m\u001b[39mself\u001b[39m\u001b[39m.\u001b[39mdesc_dim\u001b[39m}\u001b[39;00m\u001b[39m + 1.\u001b[39m\u001b[39m'\u001b[39m\n\u001b[1;32m     58\u001b[0m         )\n",
      "File \u001b[0;32m~/anaconda3/envs/hloc/lib/python3.8/site-packages/torch/nn/modules/module.py:1194\u001b[0m, in \u001b[0;36mModule._call_impl\u001b[0;34m(self, *input, **kwargs)\u001b[0m\n\u001b[1;32m   1190\u001b[0m \u001b[39m# If we don't have any hooks, we want to skip the rest of the logic in\u001b[39;00m\n\u001b[1;32m   1191\u001b[0m \u001b[39m# this function, and just call forward.\u001b[39;00m\n\u001b[1;32m   1192\u001b[0m \u001b[39mif\u001b[39;00m \u001b[39mnot\u001b[39;00m (\u001b[39mself\u001b[39m\u001b[39m.\u001b[39m_backward_hooks \u001b[39mor\u001b[39;00m \u001b[39mself\u001b[39m\u001b[39m.\u001b[39m_forward_hooks \u001b[39mor\u001b[39;00m \u001b[39mself\u001b[39m\u001b[39m.\u001b[39m_forward_pre_hooks \u001b[39mor\u001b[39;00m _global_backward_hooks\n\u001b[1;32m   1193\u001b[0m         \u001b[39mor\u001b[39;00m _global_forward_hooks \u001b[39mor\u001b[39;00m _global_forward_pre_hooks):\n\u001b[0;32m-> 1194\u001b[0m     \u001b[39mreturn\u001b[39;00m forward_call(\u001b[39m*\u001b[39;49m\u001b[39minput\u001b[39;49m, \u001b[39m*\u001b[39;49m\u001b[39m*\u001b[39;49mkwargs)\n\u001b[1;32m   1195\u001b[0m \u001b[39m# Do not call functions when jit is used\u001b[39;00m\n\u001b[1;32m   1196\u001b[0m full_backward_hooks, non_full_backward_hooks \u001b[39m=\u001b[39m [], []\n",
      "File \u001b[0;32m~/anaconda3/envs/hloc/lib/python3.8/site-packages/kornia/feature/disk/_unets/unet.py:60\u001b[0m, in \u001b[0;36mUnet.forward\u001b[0;34m(self, inp)\u001b[0m\n\u001b[1;32m     57\u001b[0m features_horizontal \u001b[39m=\u001b[39m features[\u001b[39m-\u001b[39m\u001b[39m2\u001b[39m::\u001b[39m-\u001b[39m\u001b[39m1\u001b[39m]\n\u001b[1;32m     59\u001b[0m \u001b[39mfor\u001b[39;00m layer, f_hor \u001b[39min\u001b[39;00m \u001b[39mzip\u001b[39m(\u001b[39mself\u001b[39m\u001b[39m.\u001b[39mpath_up, features_horizontal):\n\u001b[0;32m---> 60\u001b[0m     f_bot \u001b[39m=\u001b[39m layer(f_bot, f_hor)\n\u001b[1;32m     62\u001b[0m \u001b[39mreturn\u001b[39;00m f_bot\n",
      "File \u001b[0;32m~/anaconda3/envs/hloc/lib/python3.8/site-packages/torch/nn/modules/module.py:1194\u001b[0m, in \u001b[0;36mModule._call_impl\u001b[0;34m(self, *input, **kwargs)\u001b[0m\n\u001b[1;32m   1190\u001b[0m \u001b[39m# If we don't have any hooks, we want to skip the rest of the logic in\u001b[39;00m\n\u001b[1;32m   1191\u001b[0m \u001b[39m# this function, and just call forward.\u001b[39;00m\n\u001b[1;32m   1192\u001b[0m \u001b[39mif\u001b[39;00m \u001b[39mnot\u001b[39;00m (\u001b[39mself\u001b[39m\u001b[39m.\u001b[39m_backward_hooks \u001b[39mor\u001b[39;00m \u001b[39mself\u001b[39m\u001b[39m.\u001b[39m_forward_hooks \u001b[39mor\u001b[39;00m \u001b[39mself\u001b[39m\u001b[39m.\u001b[39m_forward_pre_hooks \u001b[39mor\u001b[39;00m _global_backward_hooks\n\u001b[1;32m   1193\u001b[0m         \u001b[39mor\u001b[39;00m _global_forward_hooks \u001b[39mor\u001b[39;00m _global_forward_pre_hooks):\n\u001b[0;32m-> 1194\u001b[0m     \u001b[39mreturn\u001b[39;00m forward_call(\u001b[39m*\u001b[39;49m\u001b[39minput\u001b[39;49m, \u001b[39m*\u001b[39;49m\u001b[39m*\u001b[39;49mkwargs)\n\u001b[1;32m   1195\u001b[0m \u001b[39m# Do not call functions when jit is used\u001b[39;00m\n\u001b[1;32m   1196\u001b[0m full_backward_hooks, non_full_backward_hooks \u001b[39m=\u001b[39m [], []\n",
      "File \u001b[0;32m~/anaconda3/envs/hloc/lib/python3.8/site-packages/kornia/feature/disk/_unets/blocks.py:70\u001b[0m, in \u001b[0;36mThinUnetUpBlock.forward\u001b[0;34m(self, bot, hor)\u001b[0m\n\u001b[1;32m     68\u001b[0m \u001b[39mdef\u001b[39;00m \u001b[39mforward\u001b[39m(\u001b[39mself\u001b[39m, bot: Tensor, hor: Tensor) \u001b[39m-\u001b[39m\u001b[39m>\u001b[39m Tensor:\n\u001b[1;32m     69\u001b[0m     bot_big \u001b[39m=\u001b[39m \u001b[39mself\u001b[39m\u001b[39m.\u001b[39mupsample(bot)\n\u001b[0;32m---> 70\u001b[0m     combined \u001b[39m=\u001b[39m torch\u001b[39m.\u001b[39;49mcat([bot_big, hor], dim\u001b[39m=\u001b[39;49m\u001b[39m1\u001b[39;49m)\n\u001b[1;32m     72\u001b[0m     \u001b[39mreturn\u001b[39;00m \u001b[39mself\u001b[39m\u001b[39m.\u001b[39mconv(combined)\n",
      "\u001b[0;31mOutOfMemoryError\u001b[0m: CUDA out of memory. Tried to allocate 586.00 MiB (GPU 0; 3.81 GiB total capacity; 1.28 GiB already allocated; 201.88 MiB free; 1.79 GiB reserved in total by PyTorch) If reserved memory is >> allocated memory try setting max_split_size_mb to avoid fragmentation.  See documentation for Memory Management and PYTORCH_CUDA_ALLOC_CONF"
     ]
    }
   ],
   "source": [
    "import time\n",
    "\n",
    "for feature_conf in confs:\n",
    "    print(\"#### feature_conf : \", feature_conf, \"\\n\")\n",
    "    filename = confs[feature_conf]['output'] + '.h5'\n",
    "    print(\"#### filename : \", filename, \"\\n\")\n",
    "    features = outputs / filename\n",
    "\n",
    "    timer = time.time()\n",
    "    feature_path = extract_features.main(\n",
    "        conf=confs[feature_conf],\n",
    "        image_dir=images,\n",
    "        image_list=ref,\n",
    "        export_dir=outputs,\n",
    "        feature_path=features)\n",
    "    time_cost = time.time() - timer\n",
    "\n",
    "    print(\"#### feature_path : \", feature_path, \"\\n\")\n",
    "    print(\"#### time_cost : \", time_cost, \"\\n\")"
   ]
  }
 ],
 "metadata": {
  "kernelspec": {
   "display_name": "hloc",
   "language": "python",
   "name": "python3"
  },
  "language_info": {
   "codemirror_mode": {
    "name": "ipython",
    "version": 3
   },
   "file_extension": ".py",
   "mimetype": "text/x-python",
   "name": "python",
   "nbconvert_exporter": "python",
   "pygments_lexer": "ipython3",
   "version": "3.8.18"
  }
 },
 "nbformat": 4,
 "nbformat_minor": 2
}
